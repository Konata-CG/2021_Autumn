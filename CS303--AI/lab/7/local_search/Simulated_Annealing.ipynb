{
 "cells": [
  {
   "cell_type": "code",
   "execution_count": 1,
   "metadata": {},
   "outputs": [],
   "source": [
    "import numpy as np\n",
    "import copy as cp\n",
    "import time"
   ]
  },
  {
   "cell_type": "markdown",
   "metadata": {},
   "source": [
    "# Simulated Annealing\n",
    "\n",
    "Solve the Sudoku problem with Simulated Annealing. You can design your own algorithm or simply refer to [Metaheuristics_can_solve_Sudoku_puzzles](https://www.researchgate.net/publication/220403361_Metaheuristics_can_solve_Sudoku_puzzles). \n",
    "\n",
    "The code provided below starts with making a problem instance and ends by visualizing the running process of SA."
   ]
  },
  {
   "cell_type": "code",
   "execution_count": 2,
   "metadata": {},
   "outputs": [
    {
     "name": "stdout",
     "output_type": "stream",
     "text": [
      "3.8 ms ± 69.1 µs per loop (mean ± std. dev. of 7 runs, 100 loops each)\n",
      "109 µs ± 637 ns per loop (mean ± std. dev. of 7 runs, 10000 loops each)\n"
     ]
    },
    {
     "data": {
      "text/plain": "array([[1, 2, 3, 4, 5, 6, 7, 8, 9],\n       [4, 5, 6, 7, 8, 9, 1, 2, 3],\n       [7, 8, 9, 1, 2, 3, 4, 5, 6],\n       [2, 3, 4, 5, 6, 7, 8, 9, 1],\n       [5, 6, 7, 8, 9, 1, 2, 3, 4],\n       [8, 9, 1, 2, 3, 4, 5, 6, 7],\n       [3, 4, 5, 6, 7, 8, 9, 1, 2],\n       [6, 7, 8, 9, 1, 2, 3, 4, 5],\n       [9, 1, 2, 3, 4, 5, 6, 7, 8]], dtype=int32)"
     },
     "execution_count": 2,
     "metadata": {},
     "output_type": "execute_result"
    }
   ],
   "source": [
    "# making a problem instance\n",
    "def make_grid_python(n):\n",
    "    grid = np.empty((n**2, n**2), int)\n",
    "    x = 0\n",
    "    for i in range(n):\n",
    "        for j in range(n):\n",
    "            for k in range(n**2):\n",
    "                grid[n*i+j, k] = x%(n**2) + 1\n",
    "                x += 1\n",
    "            x += n+1\n",
    "        x += 1\n",
    "    return grid\n",
    "\n",
    "def make_grid_numpy(n):\n",
    "    return np.fromfunction(lambda i, j: (i*n+i//n+j)%(n**2)+1, (n**2, n**2), dtype=int)\n",
    "\n",
    "# a comparison between native python and numpy\n",
    "# vary n to see their performances\n",
    "n = 10\n",
    "%timeit make_grid_python(n)\n",
    "%timeit make_grid_numpy(n)\n",
    "\n",
    "# test\n",
    "grid = make_grid_numpy(3)\n",
    "grid"
   ]
  },
  {
   "cell_type": "code",
   "execution_count": 3,
   "metadata": {},
   "outputs": [
    {
     "data": {
      "text/plain": "33"
     },
     "execution_count": 3,
     "metadata": {},
     "output_type": "execute_result"
    }
   ],
   "source": [
    "class Sudoku:\n",
    "    @classmethod\n",
    "    def create(cls, n, seed=303):\n",
    "        rng = np.random.default_rng(seed)\n",
    "        init_grid = make_grid_numpy(n)\n",
    "        mask = rng.integers(0, 2, size=init_grid.shape)\n",
    "        grid = init_grid * mask\n",
    "        return cls(n, mask, grid, seed)\n",
    "\n",
    "    def __init__(self, n, mask, grid, seed) -> None:\n",
    "        self.seed = seed\n",
    "        self.mask = mask\n",
    "        self.grid = grid\n",
    "        self.prev = grid\n",
    "        self.n = n\n",
    "        self.all = set(range(1, n**2+1))\n",
    "\n",
    "    def value(self):\n",
    "        final_value = 0\n",
    "        for num in range(1, self.n**2+1):\n",
    "            for i in range(self.n**2):\n",
    "                cnt_col = 0\n",
    "                cnt_row = 0\n",
    "                for j in range(self.n**2):\n",
    "                    if self.grid[i][j] == num:\n",
    "                        cnt_row += 1\n",
    "                    if self.grid[j][i] == num:\n",
    "                        cnt_col += 1\n",
    "                if cnt_col == 0:\n",
    "                    final_value += 1\n",
    "                if cnt_row == 0:\n",
    "                    final_value += 1\n",
    "        return final_value\n",
    "    \n",
    "    def local_search(self):\n",
    "        self.prev = cp.deepcopy(self.grid)\n",
    "        n = self.n\n",
    "        grid = self.grid.reshape(n, n, n, n).transpose(0, 2, 1, 3)\n",
    "        mask = self.mask.reshape(n, n, n, n).transpose(0, 2, 1, 3)\n",
    "        tar_block = np.random.randint(0, n, 2)\n",
    "        while 1:\n",
    "            tar_cell_1 = np.random.randint(0, n, 2)\n",
    "            if mask[tuple(tar_block)][tuple(tar_cell_1)] == 0:\n",
    "                break\n",
    "        num_1 = grid[tuple(tar_block)][tuple(tar_cell_1)]\n",
    "        while 1:\n",
    "            tar_cell_2 = np.random.randint(0, n, 2)\n",
    "            if mask[tuple(tar_block)][tuple(tar_cell_2)] == 1:\n",
    "                continue\n",
    "            num_2 = grid[tuple(tar_block)][tuple(tar_cell_2)]\n",
    "            if num_1 == num_2:\n",
    "                continue\n",
    "            grid[tuple(tar_block)][tuple(tar_cell_1)] = num_2\n",
    "            grid[tuple(tar_block)][tuple(tar_cell_2)] = num_1\n",
    "            break\n",
    "        grid.transpose(0, 2, 1, 3).reshape(n**2, n**2)\n",
    "        return self\n",
    "\n",
    "\n",
    "    def init_solution(self):\n",
    "        rng = np.random.default_rng(self.seed)\n",
    "        n = self.n\n",
    "        grid = self.grid.reshape(n, n, n, n).transpose(0, 2, 1, 3)\n",
    "        for I in np.ndindex(n, n):\n",
    "            idx = grid[I]==0\n",
    "            grid[I][idx] = rng.permutation(list(self.all-set(grid[I].flat)))\n",
    "        return self\n",
    "        \n",
    "    def __repr__(self) -> str:\n",
    "        return self.grid.__repr__()\n",
    "\n",
    "# test\n",
    "sudoku = Sudoku.create(3)\n",
    "sudoku = sudoku.init_solution()\n",
    "sudoku.value()\n",
    "sudoku = sudoku.local_search()\n",
    "sudoku.value()"
   ]
  },
  {
   "cell_type": "code",
   "execution_count": 4,
   "metadata": {},
   "outputs": [],
   "source": [
    "def simulated_annealing(initial:Sudoku, schedule, halt, log_interval=200):\n",
    "    state = initial.init_solution()\n",
    "    t = 0           # time step\n",
    "    T = schedule(t) # temperature\n",
    "    f = [state.value()] # a recording of values\n",
    "    min_value = float(\"inf\")\n",
    "    while not halt(T):\n",
    "        T = schedule(t)\n",
    "        new_state = state.local_search()\n",
    "        new_value = new_state.value()\n",
    "        diff_value = min_value - new_value\n",
    "        if diff_value > 0:\n",
    "            min_value = new_value\n",
    "        else:\n",
    "            possibility = np.exp(diff_value / T)\n",
    "            dice = np.random.rand()\n",
    "            if dice <= possibility:\n",
    "                min_value = new_value\n",
    "            else:\n",
    "                new_state.grid = new_state.prev\n",
    "        f.append(min_value)\n",
    "        # update time and temperature\n",
    "        if t % log_interval == 0:\n",
    "            print(f\"step {t}: T={T}, current_value={state.value()}\")\n",
    "        t += 1\n",
    "        T = schedule(t)\n",
    "    print(f\"step {t}: T={T}, current_value={state.value()}\")\n",
    "    return state, f"
   ]
  },
  {
   "cell_type": "code",
   "execution_count": 19,
   "metadata": {},
   "outputs": [
    {
     "name": "stdout",
     "output_type": "stream",
     "text": [
      "step 0: T=1.0, current_value=125\n",
      "step 200: T=0.8186488294786356, current_value=74\n",
      "step 400: T=0.6701859060067401, current_value=70\n",
      "step 600: T=0.5486469074854967, current_value=58\n",
      "step 800: T=0.4491491486100751, current_value=41\n",
      "step 1000: T=0.36769542477096373, current_value=38\n",
      "step 1200: T=0.3010134290933991, current_value=34\n",
      "step 1400: T=0.2464242913846615, current_value=26\n",
      "step 1600: T=0.20173495769715533, current_value=25\n",
      "step 1800: T=0.16515008698369826, current_value=24\n",
      "step 2000: T=0.13519992539749945, current_value=22\n",
      "step 2200: T=0.11068126067226176, current_value=21\n",
      "step 2400: T=0.09060908449456684, current_value=19\n",
      "step 2600: T=0.07417702096160793, current_value=13\n",
      "step 2800: T=0.060724931384432544, current_value=11\n",
      "step 3000: T=0.04971239399803616, current_value=11\n",
      "step 3200: T=0.04069699315707305, current_value=10\n",
      "step 3400: T=0.033316545811337896, current_value=10\n",
      "step 3600: T=0.027274551230723105, current_value=8\n",
      "step 3800: T=0.02232827943958655, current_value=8\n",
      "step 4000: T=0.018279019827489414, current_value=7\n",
      "step 4200: T=0.01496409818579098, current_value=7\n",
      "step 4400: T=0.01225034146400116, current_value=7\n",
      "step 4600: T=0.010028727700218143, current_value=7\n",
      "step 4800: T=0.008210006192943552, current_value=7\n",
      "step 5000: T=0.006721111959865588, current_value=7\n",
      "step 5200: T=0.005502230438738822, current_value=5\n",
      "step 5400: T=0.004504394508195256, current_value=5\n",
      "step 5600: T=0.0036875172916440405, current_value=5\n",
      "step 5800: T=0.003018781714486622, current_value=4\n",
      "step 6000: T=0.0024713221170159817, current_value=4\n",
      "step 6200: T=0.002023144958359797, current_value=3\n",
      "step 6400: T=0.0016562452520268508, current_value=3\n",
      "step 6600: T=0.001355883236901329, current_value=3\n",
      "step 6800: T=0.0011099922247989767, current_value=2\n",
      "step 7000: T=0.0009086938355620688, current_value=2\n",
      "step 7200: T=0.0007439011448373393, current_value=2\n",
      "step 7400: T=0.0006089938014689048, current_value=2\n",
      "step 7600: T=0.0004985520627322635, current_value=2\n",
      "step 7800: T=0.00040813906258992675, current_value=2\n",
      "step 8000: T=0.00033412256585375113, current_value=2\n",
      "step 8200: T=0.0002735290474385717, current_value=2\n",
      "step 8400: T=0.00022392423451399288, current_value=2\n",
      "step 8600: T=0.00018331531247677975, current_value=2\n",
      "step 8800: T=0.00015007086598462605, current_value=2\n",
      "step 9000: T=0.00012285533877715932, current_value=2\n",
      "step 9200: T=0.0001005753792851227, current_value=2\n",
      "step 9400: T=8.233591652613551e-05, current_value=2\n",
      "step 9600: T=6.740420168817147e-05, current_value=2\n",
      "step 9800: T=5.5180370813963455e-05, current_value=2\n",
      "step 10000: T=4.517334597704824e-05, current_value=2\n",
      "step 10200: T=3.6981106807743975e-05, current_value=2\n",
      "step 10400: T=3.0274539800984007e-05, current_value=2\n",
      "step 10600: T=2.4784216571079923e-05, current_value=2\n",
      "step 10800: T=2.028956988545958e-05, current_value=2\n",
      "step 11000: T=1.661003263735646e-05, current_value=2\n",
      "step 11200: T=1.3597783776173799e-05, current_value=2\n",
      "step 11400: T=1.1131809771868262e-05, current_value=2\n",
      "step 11600: T=9.11304303971879e-06, current_value=2\n",
      "step 11800: T=7.460382017454214e-06, current_value=2\n",
      "step 12000: T=6.107433006052354e-06, current_value=2\n",
      "step 12200: T=4.999842881523944e-06, current_value=2\n",
      "step 12400: T=4.093115522536665e-06, current_value=2\n",
      "step 12600: T=3.3508242314454746e-06, current_value=2\n",
      "step 12800: T=2.7431483348614865e-06, current_value=2\n",
      "step 13000: T=2.2456751734206243e-06, current_value=2\n",
      "step 13200: T=1.838419352110026e-06, current_value=2\n",
      "step 13400: T=1.5050198506957442e-06, current_value=2\n",
      "step 13600: T=1.232082739114182e-06, current_value=2\n",
      "step 13800: T=1.008643092196656e-06, current_value=2\n",
      "step 14000: T=8.25724486788504e-07, current_value=2\n",
      "step 14200: T=6.759783845812558e-07, current_value=2\n",
      "step 14400: T=5.533889132903041e-07, current_value=2\n",
      "step 14600: T=4.530311861115616e-07, current_value=2\n",
      "step 14800: T=3.708734502275478e-07, current_value=2\n",
      "step 15000: T=3.03615115913485e-07, current_value=0\n",
      "step 15200: T=2.4855415925459474e-07, current_value=0\n",
      "step 15400: T=2.0347857153582036e-07, current_value=0\n",
      "step 15600: T=1.6657749441178416e-07, current_value=0\n",
      "step 15800: T=1.3636847081769104e-07, current_value=0\n",
      "step 16000: T=1.1163788901269425e-07, current_value=0\n",
      "step 16111: T=9.990352422722691e-08, current_value=0\n"
     ]
    },
    {
     "data": {
      "text/plain": "(array([[ 1,  2,  3,  4,  5,  6,  7,  8,  9, 10, 11, 12, 13, 14, 15, 16],\n        [ 5,  6,  7,  8,  9, 10, 11, 12, 13, 14, 15, 16,  1,  2,  3,  4],\n        [ 9, 10, 11, 12, 13, 14, 15, 16,  1,  2,  3,  4,  5,  6,  7,  8],\n        [13, 14, 15, 16,  1,  2,  3,  4,  5,  6,  7,  8,  9, 10, 11, 12],\n        [ 2,  3,  4,  5,  6,  7, 16,  9, 10, 11, 12, 13, 14, 15,  8,  1],\n        [ 6,  7,  8,  9, 10, 11, 12, 13, 14, 15, 16,  1,  2,  3,  4,  5],\n        [10, 11, 12, 13, 14, 15,  8,  1,  2,  3,  4,  5,  6,  7, 16,  9],\n        [14, 15, 16,  1,  2,  3,  4,  5,  6,  7,  8,  9, 10, 11, 12, 13],\n        [ 3,  4,  5,  6,  7,  8,  9, 10, 11, 12, 13, 14, 15, 16,  1,  2],\n        [ 7,  8,  9, 10, 11, 12, 13, 14, 15, 16,  1,  2,  3,  4,  5,  6],\n        [11, 12, 13, 14, 15, 16,  1,  2,  3,  4,  5,  6,  7,  8,  9, 10],\n        [15, 16,  1,  2,  3,  4,  5,  6,  7,  8,  9, 10, 11, 12, 13, 14],\n        [ 4,  5,  6,  7,  8,  9, 10, 11, 12, 13, 14, 15, 16,  1,  2,  3],\n        [ 8,  9, 10, 11, 12, 13, 14, 15, 16,  1,  2,  3,  4,  5,  6,  7],\n        [12, 13, 14, 15, 16,  1,  2,  3,  4,  5,  6,  7,  8,  9, 10, 11],\n        [16,  1,  2,  3,  4,  5,  6,  7,  8,  9, 10, 11, 12, 13, 14, 15]],\n       dtype=int64),\n 0)"
     },
     "execution_count": 19,
     "metadata": {},
     "output_type": "execute_result"
    }
   ],
   "source": [
    "import matplotlib.pyplot as plt\n",
    "\n",
    "# define your own schedule and halt condition\n",
    "# run the algorithm on different n with different settings\n",
    "n = 4\n",
    "solution, record = simulated_annealing(\n",
    "    initial=Sudoku.create(n), \n",
    "    schedule=lambda t: 0.999**t, \n",
    "    halt=lambda T: T<1e-7\n",
    ")\n",
    "solution, solution.value()"
   ]
  },
  {
   "cell_type": "code",
   "execution_count": 17,
   "metadata": {},
   "outputs": [
    {
     "data": {
      "text/plain": "Text(0, 0.5, 'value')"
     },
     "execution_count": 17,
     "metadata": {},
     "output_type": "execute_result"
    },
    {
     "data": {
      "text/plain": "<Figure size 432x288 with 1 Axes>",
      "image/png": "[encoded data removed]"
     },
     "metadata": {
      "needs_background": "light"
     },
     "output_type": "display_data"
    }
   ],
   "source": [
    "# visualize the curve\n",
    "plt.plot(record)\n",
    "plt.xlabel(\"time step\")\n",
    "plt.ylabel(\"value\")"
   ]
  }
 ],
 "metadata": {
  "interpreter": {
   "hash": "dc1b36ca92b83d5ef109eaced03555f57acee2abd9fee9dc0fa9bba105170b52"
  },
  "kernelspec": {
   "name": "pycharm-2075f47c",
   "language": "python",
   "display_name": "PyCharm (adversarial_search)"
  },
  "language_info": {
   "codemirror_mode": {
    "name": "ipython",
    "version": 3
   },
   "file_extension": ".py",
   "mimetype": "text/x-python",
   "name": "python",
   "nbconvert_exporter": "python",
   "pygments_lexer": "ipython3",
   "version": "3.8.10"
  },
  "orig_nbformat": 4
 },
 "nbformat": 4,
 "nbformat_minor": 2
}